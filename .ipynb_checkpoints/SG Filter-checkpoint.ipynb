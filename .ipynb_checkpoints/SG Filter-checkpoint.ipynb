{
 "cells": [
  {
   "cell_type": "code",
   "execution_count": 1,
   "metadata": {},
   "outputs": [],
   "source": [
    "import rasterio\n",
    "import rasterio.plot\n",
    "import numpy as np\n",
    "from osgeo import gdal_array\n",
    "from scipy.signal import savgol_filter\n",
    "import matplotlib.pyplot as plt\n",
    "%matplotlib inline\n"
   ]
  },
  {
   "cell_type": "markdown",
   "metadata": {},
   "source": [
    "# 滤波\n",
    "\n",
    "## 输入数据要求\n",
    "- **时间序列影像**：`GeoTiff` 格式的时间序列影像（`*.tif`），其中每个波段表示不同日期的 NDVI 影像，第一个波段为这年第001天的影像，第二个波段为第017天的影像，以此类推。\n",
    "\n",
    "【注意】为了减小文件大小，输入的NDVI值被乘以$10000$，然后以`Int 16`整形存储。如果需要获得真实NDVI需要乘以比例系数$0.00001$. 比例系数不会影响物候期提取，可以不乘。\n",
    "\n",
    "## 输出数据格式\n",
    "- **SG滤波后的时间序列影像**：`GeoTiff` 格式的时间序列影像（`*.tif`），格式与输入数据要求一致，输出的文件名为 `<年份>.tif`，其中`<年份>`为影像的年份，格式如：2019, 2018等等。\n",
    "\n",
    "### 注意\n",
    "1. 由于影像文件较大，滤波然后保存文件可能会比较耗时。\n",
    "2. 在运行此脚本前，请清空所有不必要的内存，否则无法分配内存运算，导致程序异常退出。"
   ]
  },
  {
   "cell_type": "code",
   "execution_count": null,
   "metadata": {},
   "outputs": [],
   "source": [
    "# 时间和日期定义\n",
    "years = range(2019, 2020) # 定义年份\n",
    "dates = np.arange(1, 365, 16).tolist() # 定义日期，MODIS从每年第一天到365天之间每隔16天一景\n",
    "dates[1:20]\n",
    "\n",
    "for year in years:\n",
    "    raw_img_path = \"data/\" + str(year) + '.tif'\n",
    "    out_img_path = \"data/\" + str(year) + '_filtered.tif'\n",
    "    raw_img = gdal_array.LoadFile(raw_img_path)\n",
    "    src = rasterio.open(\"data/\" + str(year) + '.tif')\n",
    "    [doy, img_ht, img_wd] = raw_img.shape\n",
    "    filtered_img = np.zeros((doy, img_ht, img_wd))\n",
    "    \n",
    "    # SG滤波，参数可调整\n",
    "    for x in range(1,img_ht):\n",
    "        # 打印进度信息，因为SG滤波耗时较长。\n",
    "        if x%100 == 0:\n",
    "            print(x, ' of ', img_ht, '\\t', x/img_ht *100, '%')\n",
    "        for y in range(1,img_wd):\n",
    "            series = raw_img[:,x,y] # 获取原始影像时间序列\n",
    "            if np.count_nonzero(series) > 20:\n",
    "                filtered_series = savgol_filter(series, 5, 3) # SG滤波\n",
    "                filtered_img[:,x,y] = filtered_series # 滤波后存储到新影像中\n",
    "            else:\n",
    "                continue\n",
    "   \n",
    "    # 把滤波后的时间序列存储到新的影像中\n",
    "    with rasterio.open(\n",
    "        out_img_path,\n",
    "        'w',\n",
    "        driver='GTiff',\n",
    "        height=filtered_img.shape[1],\n",
    "        width=filtered_img.shape[2],\n",
    "        count=filtered_img.shape[0],\n",
    "        dtype=rasterio.int16, #存储数据精度为 Int16\n",
    "        crs=src.crs,\n",
    "        transform=src.transform,\n",
    "    ) as dst:\n",
    "        dst.write(filtered_img.astype(np.int16)) \n",
    "\n",
    "    \n",
    "plt.imshow(filtered_img[10,:,:])\n",
    "print(filtered_img.shape)"
   ]
  },
  {
   "cell_type": "code",
   "execution_count": null,
   "metadata": {},
   "outputs": [],
   "source": []
  }
 ],
 "metadata": {
  "kernelspec": {
   "display_name": "Python 3",
   "language": "python",
   "name": "python3"
  },
  "language_info": {
   "codemirror_mode": {
    "name": "ipython",
    "version": 3
   },
   "file_extension": ".py",
   "mimetype": "text/x-python",
   "name": "python",
   "nbconvert_exporter": "python",
   "pygments_lexer": "ipython3",
   "version": "3.7.4"
  }
 },
 "nbformat": 4,
 "nbformat_minor": 4
}
