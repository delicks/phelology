{
 "cells": [
  {
   "cell_type": "code",
   "execution_count": 1,
   "metadata": {},
   "outputs": [],
   "source": [
    "import rasterio\n",
    "import rasterio.plot\n",
    "import numpy as np\n",
    "from osgeo import gdal_array\n",
    "from scipy.signal import savgol_filter\n",
    "from scipy.interpolate import pchip_interpolate, InterpolatedUnivariateSpline\n",
    "import math\n",
    "from scipy.optimize import minimize\n",
    "from scipy.optimize import Bounds\n",
    "import time\n",
    "import matplotlib.pyplot as plt\n",
    "%matplotlib inline\n"
   ]
  },
  {
   "cell_type": "markdown",
   "metadata": {},
   "source": [
    "# 拟合\n",
    "\n",
    "## 输入数据要求\n",
    "- **时间序列影像**：`GeoTiff` 格式的时间序列影像（`*.tif`），其中每个波段表示不同日期的 NDVI 影像，第一个波段为这年第001天的影像，第二个波段为第017天的影像，以此类推。\n",
    "\n",
    "默认输入文件名称：`<年份>_filtered.tif`\n",
    "\n",
    "【注意】为了减小文件大小，输入的NDVI值被乘以$10000$，然后以`Int 16`整形存储。如果需要获得真实NDVI以及对应的RMSE指标，需要乘以比例系数$0.00001$. 比例系数不会影响物候期提取，可以不乘。\n",
    "\n",
    "## 输出数据格式\n",
    "- **SG滤波后的时间序列影像**：`GeoTiff` 格式的时间序列影像（`*.tif`），格式与输入数据要求一致，输出的文件名为 `<年份>.tif`，其中`<年份>`为影像的年份，格式如：2019, 2018等等。\n",
    "\n",
    "### 注意\n",
    "1. 由于影像文件较大，滤波然后保存文件可能会比较耗时。\n",
    "2. 在运行此脚本前，请清空所有不必要的内存，否则无法分配内存运算，导致程序异常退出。"
   ]
  },
  {
   "cell_type": "markdown",
   "metadata": {},
   "source": [
    "## 定义拟合函数\n",
    "首先，定义 dobule logistic 拟合所需用到的函数：\n",
    "- `double_logistic_array` 输入 double logistic 参数，以及日期的列表，给出每个时刻对应的拟合后的 NDVI 序列。\n",
    "- `double_logistic` 输入 double logistic 参数，以及某个日期，给出当前日期的你和后的 NDVI 值。\n",
    "- `genSynthObs` 输入 double logistic 参数、观测频率、噪声的标准差、云量，模拟一个增加噪声以后的 NDVI 时间序列。\n",
    "- `rmse` 函数拟合的代价函数，输入 double logistic 参数、观测值、观测值对应的观测日期，返回 RMSE 值。\n",
    "- `solver` 求解 double logistic 拟合参数。\n",
    "\n",
    "double logistic 函数为：\n",
    "$$\\min \\left[ \\frac{c-d}{1+e^{k_1 \\cdot (t - t_1)} } +d,  \\frac{d-c}{1+e^{k_2 \\cdot (t - t_2)} } +c  \\right]$$"
   ]
  },
  {
   "cell_type": "code",
   "execution_count": 2,
   "metadata": {},
   "outputs": [],
   "source": [
    "def double_logistic_array(params,timeArr):\n",
    "    phenology=[]\n",
    "    for time in timeArr:\n",
    "        phenology.append(double_logistic(params,time))\n",
    "    return np.array(phenology)\n",
    "\n",
    "def double_logistic(params,time):\n",
    "    \"\"\"Generate a double logistic curve similar \n",
    "    to those of the MODIS phenology product\n",
    "    \n",
    "    k1   --- curvature parmeter for first half of season\n",
    "    k2   --- curvature parmeter for second half of season\n",
    "    t01  --- timing parmeter for first half of season\n",
    "    t02  --- timing parmeter for second half of season\n",
    "    c    --- minimum LAI/NDVI etc\n",
    "    d    --- maximum LAI/NDVI etc\n",
    "    \n",
    "    time --- time valueto evaluate the function \n",
    "    \"\"\"\n",
    "    k1  =params[0]\n",
    "    k2  =params[1]\n",
    "    t01 =params[2]\n",
    "    t02 =params[3]\n",
    "    c   =params[4]\n",
    "    d   =params[5]\n",
    "    lgstc1=(c-d)/(1.+math.exp(k1*(time-t01)))+d    \n",
    "    lgstc2=(d-c)/(1.+math.exp(k2*(time-t02)))+c\n",
    "    return np.min([lgstc1,lgstc2])\n",
    "    \n",
    "def genSynthObs(params,freq=16,stddev=0.0,cloud=0.0):\n",
    "    \n",
    "    time_arr=[]\n",
    "    synth_obs=[]\n",
    "    for t in range(1,365,freq):\n",
    "        if np.random.rand()<cloud:\n",
    "            continue\n",
    "        time_arr.append(t)\n",
    "        obs=double_logistic(params,t)\n",
    "        obs=obs+np.random.normal(0.,stddev)\n",
    "        synth_obs.append(obs)\n",
    "        \n",
    "    return np.array(synth_obs),np.array(time_arr)\n",
    "\n",
    "\n",
    "def rmse(params,obs,obs_time):\n",
    "    model=double_logistic_array(params,obs_time)\n",
    "    rmse_series = np.sqrt(np.sum((model-obs)**2)/float(len(obs_time)))\n",
    "    return rmse_series\n",
    "    \n",
    "def solver(params,obs,obs_time,costFunction,bounds):\n",
    "    #costGradient, costHessian=ad.gh(costFunction)\n",
    "    return minimize(costFunction,\\\n",
    "                    params,\\\n",
    "                    args=(obs,obs_time),\\\n",
    "                    bounds=bounds,\\\n",
    "                    #method='L-BFGS-B',\\\n",
    "                    jac='2-point',\\\n",
    "                    options={'gtol': 1e-6})"
   ]
  },
  {
   "cell_type": "code",
   "execution_count": null,
   "metadata": {},
   "outputs": [],
   "source": [
    "## 单点实验，测试性能\n",
    "读取 2019 年滤波后的影像，然后选取坐标为 [3000,5000] 的时间序列，对其进行 double logistic 拟合。\n",
    "然后将单个像素的拟合时间打印出来。（约 0.15 秒）"
   ]
  },
  {
   "cell_type": "code",
   "execution_count": 3,
   "metadata": {},
   "outputs": [
    {
     "name": "stdout",
     "output_type": "stream",
     "text": [
      "0.1466372013092041\n"
     ]
    }
   ],
   "source": [
    "\n",
    "filtered_img_path = r'data/2019_filtered_int.tif'\n",
    "filtered_img = gdal_array.LoadFile(filtered_img_path)\n",
    "\n",
    "raw_img_path = r'data/2019.tif'\n",
    "raw_img = gdal_array.LoadFile(raw_img_path)\n",
    "\n",
    "#test_series = np.ndarray.transpose(filtered_img[:,60,35])\n",
    "start = time.time()\n",
    "test_series = filtered_img[:,3000,5000]\n",
    "time_arr=np.arange(1, 365, 16)\n",
    "\n",
    "params=np.zeros(6)\n",
    "params[0]=0.2\n",
    "params[1]=0.4\n",
    "params[2]=120\n",
    "params[3]=200\n",
    "params[4]=np.min(test_series)\n",
    "params[5]=np.max(test_series)\n",
    "\n",
    "param_bounds = Bounds([0,0,50,210,0,0],[0.1,0.1,160,300,10000,10000])\n",
    "\n",
    "phenology=double_logistic_array(params,time_arr)\n",
    "#synth_obs, obs_times=genSynthObs(params,freq=16,stddev=0.05,cloud=0)\n",
    "\n",
    "synth_obs = test_series #/ 10000\n",
    "obs_times = time_arr\n",
    "\n",
    "#print(obs_times)\n",
    "    \n",
    "s=solver(params,synth_obs,obs_times,rmse,param_bounds)\n",
    "rmse_series = s.fun\n",
    "\n",
    "retrieval=double_logistic_array(s.x,time_arr)\n",
    "end = time.time()\n",
    "print(end - start)\n",
    "#plt.plot(obs_times, test_series / 10000, label=\"test\")"
   ]
  },
  {
   "cell_type": "code",
   "execution_count": 5,
   "metadata": {},
   "outputs": [
    {
     "data": {
      "text/plain": [
       "      fun: 421.2884458281575\n",
       " hess_inv: <6x6 LbfgsInvHessProduct with dtype=float64>\n",
       "      jac: array([ 7.39669800e-03,  3.73458862e-03,  8.27699894e-05, -2.44986883e-05,\n",
       "       -2.73339270e-06,  9.69311198e-03])\n",
       "  message: b'CONVERGENCE: REL_REDUCTION_OF_F_<=_FACTR*EPSMCH'\n",
       "     nfev: 462\n",
       "      nit: 49\n",
       "     njev: 66\n",
       "   status: 0\n",
       "  success: True\n",
       "        x: array([4.17518771e-02, 4.41992793e-02, 1.24345228e+02, 2.74672910e+02,\n",
       "       1.10530779e+03, 4.97715782e+03])"
      ]
     },
     "execution_count": 5,
     "metadata": {},
     "output_type": "execute_result"
    }
   ],
   "source": [
    "s"
   ]
  },
  {
   "cell_type": "code",
   "execution_count": 4,
   "metadata": {},
   "outputs": [
    {
     "data": {
      "image/png": "[encoded data removed]",
      "text/plain": [
       "<Figure size 432x288 with 1 Axes>"
      ]
     },
     "metadata": {
      "needs_background": "light"
     },
     "output_type": "display_data"
    }
   ],
   "source": [
    "plt.plot(time_arr,phenology, label=\"Initial Guess\")\n",
    "    \n",
    "plt.plot(obs_times,synth_obs,\"o\", label=\"obs\")\n",
    "plt.plot(time_arr,retrieval, label=\"retrieved\")\n",
    "\n",
    "plt.xlabel(\"Day of year\")\n",
    "plt.ylabel(\"NDVI (-)\")\n",
    "#plt.ylim([0,3.0])\n",
    "plt.title('RMSE = ' + str(rmse_series))\n",
    "#plt.show()\n",
    "plt.savefig(\"phenology_example.png\")"
   ]
  },
  {
   "cell_type": "markdown",
   "metadata": {},
   "source": [
    "## Running on rasters"
   ]
  },
  {
   "cell_type": "code",
   "execution_count": null,
   "metadata": {},
   "outputs": [],
   "source": [
    "# 读取滤波后的影像\n",
    "filtered_img_path = r'data/2019_filtered_int.tif'\n",
    "filtered_img = gdal_array.LoadFile(filtered_img_path)\n",
    "[doy, img_ht, img_wd] = filtered_img.shape              # 影像的维度（日期数、宽、高）\n",
    "param_num = 6       # double logistic 参数个数\n",
    "\n",
    "#fitted_img = np.zeros(filtered_img.shape)\n",
    "fitted_params = np.zeros((param_num, img_ht, img_wd))\n",
    "param_bounds = Bounds([0,0,50,210,0,0],[0.1,0.1,160,300,10000,10000])\n",
    "\n",
    "# 分配影像日期(DOY)\n",
    "time_arr=np.arange(1, 365, 16)\n",
    "\n",
    "# 开始计时\n",
    "start = time.time()\n",
    "for x in range(1,img_ht):\n",
    "    # 打印进度信息，因为影像较大。\n",
    "    if x%100 == 0:\n",
    "        end = time.time()\n",
    "        print(x, ' of ', img_ht, '\\t', x/img_ht *100, '%\\t Time elapsed: ', str(end - start) )\n",
    "        \n",
    "    for y in range(1,img_wd):\n",
    "        series = filtered_img[:,x,y] # 获取原始影像时间序列\n",
    "\n",
    "        # 如果序列全为 0，则不需要做拟合（研究区外）\n",
    "        if np.count_nonzero(series) > 20:\n",
    "\n",
    "            # Double logistic 拟合参数的初始猜测\n",
    "            params=np.zeros(6)\n",
    "            params[0]=0.2\n",
    "            params[1]=0.4\n",
    "            params[2]=120\n",
    "            params[3]=250\n",
    "            params[4]=np.min(series)\n",
    "            params[5]=np.max(series)\n",
    "\n",
    "            # 初始猜测参数的时间序列曲线\n",
    "            phenology=double_logistic_array(params,time_arr)\n",
    "            #synth_obs, obs_times=genSynthObs(params,freq=16,stddev=0.05,cloud=0)\n",
    "\n",
    "            # 滤波后的观测时间序列曲线\n",
    "            synth_obs = series #/ 10000\n",
    "            obs_times = time_arr\n",
    "\n",
    "            # 经过优化后的 double logiscit 参数值和 RMSE 值\n",
    "            s=solver(params,synth_obs,obs_times,rmse,param_bounds)\n",
    "            rmse_series = s.fun\n",
    "\n",
    "            # double logistic 拟合后的时间序列\n",
    "            #fitted_img[:,x,y]=double_logistic_array(s.x,time_arr)\n",
    "            fitted_params[:,x,y] = s.x\n"
   ]
  },
  {
   "cell_type": "code",
   "execution_count": null,
   "metadata": {},
   "outputs": [],
   "source": [
    "# 把滤波后的时间序列存储到新的影像中\n",
    "    with rasterio.open(\n",
    "        out_img_path,\n",
    "        'w',\n",
    "        driver='GTiff',\n",
    "        height=fitted_params.shape[1],\n",
    "        width=fitted_params.shape[2],\n",
    "        count=fitted_params.shape[0],\n",
    "        dtype=rasterio.float64, #存储数据精度为 float64,参数精度要求较高\n",
    "        crs=src.crs,\n",
    "        transform=src.transform,\n",
    "    ) as dst:\n",
    "        dst.write(fitted_params.astype(np.int16)) "
   ]
  },
  {
   "cell_type": "code",
   "execution_count": null,
   "metadata": {},
   "outputs": [],
   "source": []
  }
 ],
 "metadata": {
  "kernelspec": {
   "display_name": "Python 3",
   "language": "python",
   "name": "python3"
  },
  "language_info": {
   "codemirror_mode": {
    "name": "ipython",
    "version": 3
   },
   "file_extension": ".py",
   "mimetype": "text/x-python",
   "name": "python",
   "nbconvert_exporter": "python",
   "pygments_lexer": "ipython3",
   "version": "3.8.3"
  }
 },
 "nbformat": 4,
 "nbformat_minor": 4
}
