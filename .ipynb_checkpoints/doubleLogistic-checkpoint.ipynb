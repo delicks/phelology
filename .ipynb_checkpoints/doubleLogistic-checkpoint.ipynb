{
 "cells": [
  {
   "cell_type": "code",
   "execution_count": 2,
   "metadata": {},
   "outputs": [],
   "source": [
    "import rasterio\n",
    "import rasterio.plot\n",
    "import numpy as np\n",
    "from osgeo import gdal_array\n",
    "from scipy.signal import savgol_filter\n",
    "from scipy.interpolate import pchip_interpolate, InterpolatedUnivariateSpline\n",
    "import math\n",
    "from scipy.optimize import minimize\n",
    "from scipy.optimize import Bounds, approx_fprime\n",
    "import time\n",
    "import matplotlib.pyplot as plt\n",
    "%matplotlib inline\n"
   ]
  },
  {
   "cell_type": "markdown",
   "metadata": {},
   "source": [
    "# 拟合\n",
    "\n",
    "## 输入数据要求\n",
    "- **时间序列影像**：`GeoTiff` 格式的时间序列影像（`*.tif`），其中每个波段表示不同日期的 NDVI 影像，第一个波段为这年第001天的影像，第二个波段为第017天的影像，以此类推。\n",
    "\n",
    "默认输入文件名称：`<年份>_filtered.tif`\n",
    "\n",
    "【注意】为了减小文件大小，输入的NDVI值被乘以$10000$，然后以`Int 16`整形存储。如果需要获得真实NDVI以及对应的RMSE指标，需要乘以比例系数$0.00001$. 比例系数不会影响物候期提取，可以不乘。\n",
    "\n",
    "## 输出数据格式\n",
    "- **SG滤波后的时间序列影像**：`GeoTiff` 格式的时间序列影像（`*.tif`），格式与输入数据要求一致，输出的文件名为 `<年份>.tif`，其中`<年份>`为影像的年份，格式如：2019, 2018等等。\n",
    "\n",
    "### 注意\n",
    "1. 由于影像文件较大，滤波然后保存文件可能会比较耗时。\n",
    "2. 在运行此脚本前，请清空所有不必要的内存，否则无法分配内存运算，导致程序异常退出。"
   ]
  },
  {
   "cell_type": "markdown",
   "metadata": {},
   "source": [
    "## 定义拟合函数\n",
    "首先，定义 dobule logistic 拟合所需用到的函数：\n",
    "- `double_logistic_array` 输入 double logistic 参数，以及日期的列表，给出每个时刻对应的拟合后的 NDVI 序列。\n",
    "- `double_logistic` 输入 double logistic 参数，以及某个日期，给出当前日期的你和后的 NDVI 值。\n",
    "- `genSynthObs` 输入 double logistic 参数、观测频率、噪声的标准差、云量，模拟一个增加噪声以后的 NDVI 时间序列。\n",
    "- `rmse` 函数拟合的代价函数，输入 double logistic 参数、观测值、观测值对应的观测日期，返回 RMSE 值。\n",
    "- `solver` 求解 double logistic 拟合参数。\n",
    "\n",
    "double logistic 函数为：\n",
    "$$\\min \\left[ \\frac{c-d}{1+e^{k_1 \\cdot (t - t_1)} } +d,  \\frac{d-c}{1+e^{k_2 \\cdot (t - t_2)} } +c  \\right]$$"
   ]
  },
  {
   "cell_type": "code",
   "execution_count": 34,
   "metadata": {},
   "outputs": [],
   "source": [
    "def double_logistic_array(params,timeArr):\n",
    "    phenology=[]\n",
    "    for time in timeArr:\n",
    "        phenology.append(double_logistic(params,time))\n",
    "    return np.array(phenology)\n",
    "\n",
    "def double_logistic(params,time):\n",
    "    \"\"\"Generate a double logistic curve similar \n",
    "    to those of the MODIS phenology product\n",
    "    \n",
    "    k1   --- curvature parmeter for first half of season\n",
    "    k2   --- curvature parmeter for second half of season\n",
    "    t01  --- timing parmeter for first half of season\n",
    "    t02  --- timing parmeter for second half of season\n",
    "    c    --- minimum LAI/NDVI etc\n",
    "    d    --- maximum LAI/NDVI etc\n",
    "    \n",
    "    time --- time valueto evaluate the function \n",
    "    \"\"\"\n",
    "    k1  =params[0]\n",
    "    k2  =params[1]\n",
    "    t01 =params[2]\n",
    "    t02 =params[3]\n",
    "    c   =params[4]\n",
    "    d   =params[5]\n",
    "    lgstc1=(c-d)/(1.+math.exp(k1*(time-t01)))+d    \n",
    "    lgstc2=(d-c)/(1.+math.exp(k2*(time-t02)))+c\n",
    "    #return np.min([lgstc1,lgstc2])\n",
    "    return lgstc1 - lgstc2\n",
    "    \n",
    "def genSynthObs(params,freq=16,stddev=0.0,cloud=0.0):\n",
    "    \n",
    "    time_arr=[]\n",
    "    synth_obs=[]\n",
    "    for t in range(1,365,freq):\n",
    "        if np.random.rand()<cloud:\n",
    "            continue\n",
    "        time_arr.append(t)\n",
    "        obs=double_logistic(params,t)\n",
    "        obs=obs+np.random.normal(0.,stddev)\n",
    "        synth_obs.append(obs)\n",
    "        \n",
    "    return np.array(synth_obs),np.array(time_arr)\n",
    "\n",
    "def sos(params,base_value,epsilon=1e-6):\n",
    "    a = params[2]\n",
    "    y = base_value\n",
    "    func = lambda x: double_logistic(params,x)\n",
    "    b = func(a)\n",
    "    k = (func(a + epsilon) - b)/epsilon\n",
    "    x = a + (y - b)/k\n",
    "    return x\n",
    "\n",
    "def sos3rd(params,bound,epsilon=1e-6):\n",
    "    \n",
    "    x0 = params[2]\n",
    "    \n",
    "    func = lambda x: double_logistic(params,x)\n",
    "    grad = lambda x: approx_fprime(x,func,epsilon)\n",
    "    hess = lambda x: approx_fprime(x,grad,epsilon)\n",
    "    K = lambda x: 0 - abs(hess(x)) / ((1 + grad(x))**(3/2))\n",
    "    #grad3rd = lambda x: approx_fprime(x,hess,epsilon)\n",
    "    \n",
    "    s = minimize(K,[x0],bounds=bound)\n",
    "    return s.x\n",
    "\n",
    "def eos(params):\n",
    "    return params[3]\n",
    "\n",
    "def eos3rd(params,bound,epsilon=1e-6):\n",
    "    \n",
    "    x0 = params[3]\n",
    "    \n",
    "    func = lambda x: double_logistic(params,x)\n",
    "    grad = lambda x: approx_fprime(x,func,epsilon)\n",
    "    hess = lambda x: approx_fprime(x,grad,epsilon)\n",
    "    K = lambda x: abs(hess(x)) / ((1 + grad(x))**(3/2))\n",
    "    #grad3rd = lambda x: approx_fprime(x,hess,epsilon)\n",
    "    \n",
    "    s = minimize(grad3rd,[x0],bounds=bound)\n",
    "    return s.x\n",
    "\n",
    "def rmse(params,obs,obs_time):\n",
    "    model=double_logistic_array(params,obs_time)\n",
    "    rmse_series = np.sqrt(np.sum((model-obs)**2)/float(len(obs_time)))\n",
    "    return rmse_series\n",
    "    \n",
    "def solver(params,obs,obs_time,costFunction,bounds):\n",
    "    #costGradient, costHessian=ad.gh(costFunction)\n",
    "    #costFunction = rmse(params,obs,obs_time)\n",
    "    return minimize(costFunction,\\\n",
    "                    params,\\\n",
    "                    args=(obs,obs_time),\\\n",
    "                    bounds=bounds,\\\n",
    "                    #method='L-BFGS-B',\\\n",
    "                    jac='2-point',\\\n",
    "                    #options={'ftol': 1e-2,'gtol': 1e-6}\n",
    "                   )"
   ]
  },
  {
   "cell_type": "markdown",
   "metadata": {},
   "source": [
    "## 单点实验，测试性能\n",
    "读取 2019 年滤波后的影像，然后选取坐标为 [3000,5000] 的时间序列，对其进行 double logistic 拟合。\n",
    "然后将单个像素的拟合时间打印出来。（约 0.15 秒）"
   ]
  },
  {
   "cell_type": "code",
   "execution_count": 35,
   "metadata": {},
   "outputs": [
    {
     "name": "stdout",
     "output_type": "stream",
     "text": [
      "0.2771141529083252\n",
      "SOS =  76\n"
     ]
    }
   ],
   "source": [
    "\n",
    "#filtered_img_path = r'data/2019.tif'\n",
    "#filtered_img = gdal_array.LoadFile(filtered_img_path)\n",
    "\n",
    "#test_series = np.ndarray.transpose(filtered_img[:,60,35])\n",
    "start = time.time()\n",
    "\n",
    "time_arr=np.arange(1, 365, 16)\n",
    "#test_series = filtered_img[:,3000,5000]\n",
    "\n",
    "#test_series = np.array([1740,1677,1660,1677,\n",
    "#                        1708,1664,1676,1840,2189,2499,2923,3233,3219,3095,\n",
    "#                        2941,2746,2401,2184,1929,1789,1840,1732,949])\n",
    "test_series = np.array([1951,2234,1443,1317,1628,2132,2185,2410,2479,3234,4678,\n",
    "                        6281,7091,7232,6773,5792,4512,3385,2791,2578,1689,676,514])\n",
    "\n",
    "\n",
    "\n",
    "params=np.zeros(6)\n",
    "params[0]=0.2\n",
    "params[1]=0.4\n",
    "params[2]=120\n",
    "params[3]=280\n",
    "params[4]=np.min(test_series)\n",
    "params[5]=np.max(test_series)\n",
    "\n",
    "param_bounds = Bounds([-2,-2,50,200,0,0],[2,2,160,300,10000,10000])\n",
    "sos_bounds = Bounds([60],[120])\n",
    "eos_bounds = Bounds([200],[300])\n",
    "\n",
    "phenology=double_logistic_array(params,time_arr)\n",
    "#synth_obs, obs_times=genSynthObs(params,freq=16,stddev=0.05,cloud=0)\n",
    "\n",
    "synth_obs = test_series #/ 10000\n",
    "obs_times = time_arr\n",
    "base_value = np.percentile(synth_obs, 15)\n",
    "\n",
    "#print(obs_times)\n",
    "    \n",
    "s=solver(params,synth_obs,obs_times,rmse,param_bounds)\n",
    "rmse_series = s.fun\n",
    "\n",
    "retrieval=double_logistic_array(s.x,time_arr)\n",
    "sos_series = sos(s.x,base_value)\n",
    "sos_series3rd = sos3rd(params,sos_bounds,epsilon=1e-6)\n",
    "eos_series = eos(s.x)\n",
    "eos_series3rd = eos3rd(params,eos_bounds,epsilon=1e-6)\n",
    "end = time.time()\n",
    "print(end - start)\n",
    "print('SOS = ', int(sos_series))\n",
    "#plt.plot(obs_times, test_series / 10000, label=\"test\")"
   ]
  },
  {
   "cell_type": "code",
   "execution_count": 36,
   "metadata": {},
   "outputs": [
    {
     "data": {
      "text/plain": [
       "1498.5"
      ]
     },
     "execution_count": 36,
     "metadata": {},
     "output_type": "execute_result"
    }
   ],
   "source": [
    "base_value"
   ]
  },
  {
   "cell_type": "code",
   "execution_count": 37,
   "metadata": {},
   "outputs": [
    {
     "data": {
      "image/png": "[encoded data removed]",
      "text/plain": [
       "<Figure size 432x288 with 1 Axes>"
      ]
     },
     "metadata": {
      "needs_background": "light"
     },
     "output_type": "display_data"
    }
   ],
   "source": [
    "#plt.plot(time_arr,phenology, label=\"Initial Guess\")\n",
    "plt.plot(time_arr,retrieval,\"--\", label=\"retrieved\")\n",
    "plt.plot(obs_times,synth_obs,\".\", label=\"obs\")\n",
    "\n",
    "plt.plot(sos_series,double_logistic(s.x,sos_series),\"g^\", label=\"SOS(L)\")\n",
    "plt.plot(sos_series3rd,double_logistic(s.x,sos_series3rd),\"k^\", label=\"SOS(C)\")\n",
    "plt.plot(eos_series,double_logistic(s.x,eos_series),\"rv\", label=\"EOS(L)\")\n",
    "plt.plot(eos_series3rd,double_logistic(s.x,eos_series3rd),\"kv\", label=\"EOS(C)\")\n",
    "\n",
    "plt.xlabel(\"Day of year\")\n",
    "plt.ylabel(\"NDVI (-)\")\n",
    "#plt.ylim([0,3.0])\n",
    "plt.title('RMSE = ' + str(rmse_series/10000))\n",
    "plt.legend()\n",
    "plt.savefig(\"phenology_example.svg\")"
   ]
  },
  {
   "cell_type": "markdown",
   "metadata": {},
   "source": [
    "## Running on rasters"
   ]
  },
  {
   "cell_type": "code",
   "execution_count": 3,
   "metadata": {},
   "outputs": [
    {
     "name": "stdout",
     "output_type": "stream",
     "text": [
      "100  of  6359 \t 1.5725743041358704 %\t Time elapsed:  5507.121825218201\n"
     ]
    },
    {
     "ename": "KeyboardInterrupt",
     "evalue": "",
     "output_type": "error",
     "traceback": [
      "\u001b[1;31m---------------------------------------------------------------------------\u001b[0m",
      "\u001b[1;31mKeyboardInterrupt\u001b[0m                         Traceback (most recent call last)",
      "\u001b[1;32m<ipython-input-3-50d624ec7f74>\u001b[0m in \u001b[0;36m<module>\u001b[1;34m\u001b[0m\n\u001b[0;32m     44\u001b[0m \u001b[1;33m\u001b[0m\u001b[0m\n\u001b[0;32m     45\u001b[0m             \u001b[1;31m# 经过优化后的 double logiscit 参数值和 RMSE 值\u001b[0m\u001b[1;33m\u001b[0m\u001b[1;33m\u001b[0m\u001b[1;33m\u001b[0m\u001b[0m\n\u001b[1;32m---> 46\u001b[1;33m             \u001b[0ms\u001b[0m\u001b[1;33m=\u001b[0m\u001b[0msolver\u001b[0m\u001b[1;33m(\u001b[0m\u001b[0mparams\u001b[0m\u001b[1;33m,\u001b[0m\u001b[0msynth_obs\u001b[0m\u001b[1;33m,\u001b[0m\u001b[0mobs_times\u001b[0m\u001b[1;33m,\u001b[0m\u001b[0mrmse\u001b[0m\u001b[1;33m,\u001b[0m\u001b[0mparam_bounds\u001b[0m\u001b[1;33m)\u001b[0m\u001b[1;33m\u001b[0m\u001b[1;33m\u001b[0m\u001b[0m\n\u001b[0m\u001b[0;32m     47\u001b[0m             \u001b[0mrmse_series\u001b[0m \u001b[1;33m=\u001b[0m \u001b[0ms\u001b[0m\u001b[1;33m.\u001b[0m\u001b[0mfun\u001b[0m\u001b[1;33m\u001b[0m\u001b[1;33m\u001b[0m\u001b[0m\n\u001b[0;32m     48\u001b[0m \u001b[1;33m\u001b[0m\u001b[0m\n",
      "\u001b[1;32m<ipython-input-2-9f4a7a496fa0>\u001b[0m in \u001b[0;36msolver\u001b[1;34m(params, obs, obs_time, costFunction, bounds)\u001b[0m\n\u001b[0;32m     50\u001b[0m \u001b[1;32mdef\u001b[0m \u001b[0msolver\u001b[0m\u001b[1;33m(\u001b[0m\u001b[0mparams\u001b[0m\u001b[1;33m,\u001b[0m\u001b[0mobs\u001b[0m\u001b[1;33m,\u001b[0m\u001b[0mobs_time\u001b[0m\u001b[1;33m,\u001b[0m\u001b[0mcostFunction\u001b[0m\u001b[1;33m,\u001b[0m\u001b[0mbounds\u001b[0m\u001b[1;33m)\u001b[0m\u001b[1;33m:\u001b[0m\u001b[1;33m\u001b[0m\u001b[1;33m\u001b[0m\u001b[0m\n\u001b[0;32m     51\u001b[0m     \u001b[1;31m#costGradient, costHessian=ad.gh(costFunction)\u001b[0m\u001b[1;33m\u001b[0m\u001b[1;33m\u001b[0m\u001b[1;33m\u001b[0m\u001b[0m\n\u001b[1;32m---> 52\u001b[1;33m     return minimize(costFunction,\\\n\u001b[0m\u001b[0;32m     53\u001b[0m                     \u001b[0mparams\u001b[0m\u001b[1;33m,\u001b[0m\u001b[0;31m\\\u001b[0m\u001b[1;33m\u001b[0m\u001b[1;33m\u001b[0m\u001b[0m\n\u001b[0;32m     54\u001b[0m                     \u001b[0margs\u001b[0m\u001b[1;33m=\u001b[0m\u001b[1;33m(\u001b[0m\u001b[0mobs\u001b[0m\u001b[1;33m,\u001b[0m\u001b[0mobs_time\u001b[0m\u001b[1;33m)\u001b[0m\u001b[1;33m,\u001b[0m\u001b[0;31m\\\u001b[0m\u001b[1;33m\u001b[0m\u001b[1;33m\u001b[0m\u001b[0m\n",
      "\u001b[1;32mC:\\ProgramData\\Anaconda3\\lib\\site-packages\\scipy\\optimize\\_minimize.py\u001b[0m in \u001b[0;36mminimize\u001b[1;34m(fun, x0, args, method, jac, hess, hessp, bounds, constraints, tol, callback, options)\u001b[0m\n\u001b[0;32m    615\u001b[0m                                   **options)\n\u001b[0;32m    616\u001b[0m     \u001b[1;32melif\u001b[0m \u001b[0mmeth\u001b[0m \u001b[1;33m==\u001b[0m \u001b[1;34m'l-bfgs-b'\u001b[0m\u001b[1;33m:\u001b[0m\u001b[1;33m\u001b[0m\u001b[1;33m\u001b[0m\u001b[0m\n\u001b[1;32m--> 617\u001b[1;33m         return _minimize_lbfgsb(fun, x0, args, jac, bounds,\n\u001b[0m\u001b[0;32m    618\u001b[0m                                 callback=callback, **options)\n\u001b[0;32m    619\u001b[0m     \u001b[1;32melif\u001b[0m \u001b[0mmeth\u001b[0m \u001b[1;33m==\u001b[0m \u001b[1;34m'tnc'\u001b[0m\u001b[1;33m:\u001b[0m\u001b[1;33m\u001b[0m\u001b[1;33m\u001b[0m\u001b[0m\n",
      "\u001b[1;32mC:\\ProgramData\\Anaconda3\\lib\\site-packages\\scipy\\optimize\\lbfgsb.py\u001b[0m in \u001b[0;36m_minimize_lbfgsb\u001b[1;34m(fun, x0, args, jac, bounds, disp, maxcor, ftol, gtol, eps, maxfun, maxiter, iprint, callback, maxls, finite_diff_rel_step, **unknown_options)\u001b[0m\n\u001b[0;32m    358\u001b[0m             \u001b[1;31m# until the completion of the current minimization iteration.\u001b[0m\u001b[1;33m\u001b[0m\u001b[1;33m\u001b[0m\u001b[1;33m\u001b[0m\u001b[0m\n\u001b[0;32m    359\u001b[0m             \u001b[1;31m# Overwrite f and g:\u001b[0m\u001b[1;33m\u001b[0m\u001b[1;33m\u001b[0m\u001b[1;33m\u001b[0m\u001b[0m\n\u001b[1;32m--> 360\u001b[1;33m             \u001b[0mf\u001b[0m\u001b[1;33m,\u001b[0m \u001b[0mg\u001b[0m \u001b[1;33m=\u001b[0m \u001b[0mfunc_and_grad\u001b[0m\u001b[1;33m(\u001b[0m\u001b[0mx\u001b[0m\u001b[1;33m)\u001b[0m\u001b[1;33m\u001b[0m\u001b[1;33m\u001b[0m\u001b[0m\n\u001b[0m\u001b[0;32m    361\u001b[0m         \u001b[1;32melif\u001b[0m \u001b[0mtask_str\u001b[0m\u001b[1;33m.\u001b[0m\u001b[0mstartswith\u001b[0m\u001b[1;33m(\u001b[0m\u001b[1;34mb'NEW_X'\u001b[0m\u001b[1;33m)\u001b[0m\u001b[1;33m:\u001b[0m\u001b[1;33m\u001b[0m\u001b[1;33m\u001b[0m\u001b[0m\n\u001b[0;32m    362\u001b[0m             \u001b[1;31m# new iteration\u001b[0m\u001b[1;33m\u001b[0m\u001b[1;33m\u001b[0m\u001b[1;33m\u001b[0m\u001b[0m\n",
      "\u001b[1;32mC:\\ProgramData\\Anaconda3\\lib\\site-packages\\scipy\\optimize\\_differentiable_functions.py\u001b[0m in \u001b[0;36mfun_and_grad\u001b[1;34m(self, x)\u001b[0m\n\u001b[0;32m    199\u001b[0m             \u001b[0mself\u001b[0m\u001b[1;33m.\u001b[0m\u001b[0m_update_x_impl\u001b[0m\u001b[1;33m(\u001b[0m\u001b[0mx\u001b[0m\u001b[1;33m)\u001b[0m\u001b[1;33m\u001b[0m\u001b[1;33m\u001b[0m\u001b[0m\n\u001b[0;32m    200\u001b[0m         \u001b[0mself\u001b[0m\u001b[1;33m.\u001b[0m\u001b[0m_update_fun\u001b[0m\u001b[1;33m(\u001b[0m\u001b[1;33m)\u001b[0m\u001b[1;33m\u001b[0m\u001b[1;33m\u001b[0m\u001b[0m\n\u001b[1;32m--> 201\u001b[1;33m         \u001b[0mself\u001b[0m\u001b[1;33m.\u001b[0m\u001b[0m_update_grad\u001b[0m\u001b[1;33m(\u001b[0m\u001b[1;33m)\u001b[0m\u001b[1;33m\u001b[0m\u001b[1;33m\u001b[0m\u001b[0m\n\u001b[0m\u001b[0;32m    202\u001b[0m         \u001b[1;32mreturn\u001b[0m \u001b[0mself\u001b[0m\u001b[1;33m.\u001b[0m\u001b[0mf\u001b[0m\u001b[1;33m,\u001b[0m \u001b[0mself\u001b[0m\u001b[1;33m.\u001b[0m\u001b[0mg\u001b[0m\u001b[1;33m\u001b[0m\u001b[1;33m\u001b[0m\u001b[0m\n\u001b[0;32m    203\u001b[0m \u001b[1;33m\u001b[0m\u001b[0m\n",
      "\u001b[1;32mC:\\ProgramData\\Anaconda3\\lib\\site-packages\\scipy\\optimize\\_differentiable_functions.py\u001b[0m in \u001b[0;36m_update_grad\u001b[1;34m(self)\u001b[0m\n\u001b[0;32m    169\u001b[0m     \u001b[1;32mdef\u001b[0m \u001b[0m_update_grad\u001b[0m\u001b[1;33m(\u001b[0m\u001b[0mself\u001b[0m\u001b[1;33m)\u001b[0m\u001b[1;33m:\u001b[0m\u001b[1;33m\u001b[0m\u001b[1;33m\u001b[0m\u001b[0m\n\u001b[0;32m    170\u001b[0m         \u001b[1;32mif\u001b[0m \u001b[1;32mnot\u001b[0m \u001b[0mself\u001b[0m\u001b[1;33m.\u001b[0m\u001b[0mg_updated\u001b[0m\u001b[1;33m:\u001b[0m\u001b[1;33m\u001b[0m\u001b[1;33m\u001b[0m\u001b[0m\n\u001b[1;32m--> 171\u001b[1;33m             \u001b[0mself\u001b[0m\u001b[1;33m.\u001b[0m\u001b[0m_update_grad_impl\u001b[0m\u001b[1;33m(\u001b[0m\u001b[1;33m)\u001b[0m\u001b[1;33m\u001b[0m\u001b[1;33m\u001b[0m\u001b[0m\n\u001b[0m\u001b[0;32m    172\u001b[0m             \u001b[0mself\u001b[0m\u001b[1;33m.\u001b[0m\u001b[0mg_updated\u001b[0m \u001b[1;33m=\u001b[0m \u001b[1;32mTrue\u001b[0m\u001b[1;33m\u001b[0m\u001b[1;33m\u001b[0m\u001b[0m\n\u001b[0;32m    173\u001b[0m \u001b[1;33m\u001b[0m\u001b[0m\n",
      "\u001b[1;32mC:\\ProgramData\\Anaconda3\\lib\\site-packages\\scipy\\optimize\\_differentiable_functions.py\u001b[0m in \u001b[0;36mupdate_grad\u001b[1;34m()\u001b[0m\n\u001b[0;32m     89\u001b[0m                 \u001b[0mself\u001b[0m\u001b[1;33m.\u001b[0m\u001b[0m_update_fun\u001b[0m\u001b[1;33m(\u001b[0m\u001b[1;33m)\u001b[0m\u001b[1;33m\u001b[0m\u001b[1;33m\u001b[0m\u001b[0m\n\u001b[0;32m     90\u001b[0m                 \u001b[0mself\u001b[0m\u001b[1;33m.\u001b[0m\u001b[0mngev\u001b[0m \u001b[1;33m+=\u001b[0m \u001b[1;36m1\u001b[0m\u001b[1;33m\u001b[0m\u001b[1;33m\u001b[0m\u001b[0m\n\u001b[1;32m---> 91\u001b[1;33m                 self.g = approx_derivative(fun_wrapped, self.x, f0=self.f,\n\u001b[0m\u001b[0;32m     92\u001b[0m                                            **finite_diff_options)\n\u001b[0;32m     93\u001b[0m \u001b[1;33m\u001b[0m\u001b[0m\n",
      "\u001b[1;32mC:\\ProgramData\\Anaconda3\\lib\\site-packages\\scipy\\optimize\\_numdiff.py\u001b[0m in \u001b[0;36mapprox_derivative\u001b[1;34m(fun, x0, method, rel_step, abs_step, f0, bounds, sparsity, as_linear_operator, args, kwargs)\u001b[0m\n\u001b[0;32m    424\u001b[0m \u001b[1;33m\u001b[0m\u001b[0m\n\u001b[0;32m    425\u001b[0m         \u001b[1;32mif\u001b[0m \u001b[0msparsity\u001b[0m \u001b[1;32mis\u001b[0m \u001b[1;32mNone\u001b[0m\u001b[1;33m:\u001b[0m\u001b[1;33m\u001b[0m\u001b[1;33m\u001b[0m\u001b[0m\n\u001b[1;32m--> 426\u001b[1;33m             return _dense_difference(fun_wrapped, x0, f0, h,\n\u001b[0m\u001b[0;32m    427\u001b[0m                                      use_one_sided, method)\n\u001b[0;32m    428\u001b[0m         \u001b[1;32melse\u001b[0m\u001b[1;33m:\u001b[0m\u001b[1;33m\u001b[0m\u001b[1;33m\u001b[0m\u001b[0m\n",
      "\u001b[1;32mC:\\ProgramData\\Anaconda3\\lib\\site-packages\\scipy\\optimize\\_numdiff.py\u001b[0m in \u001b[0;36m_dense_difference\u001b[1;34m(fun, x0, f0, h, use_one_sided, method)\u001b[0m\n\u001b[0;32m    495\u001b[0m             \u001b[0mx\u001b[0m \u001b[1;33m=\u001b[0m \u001b[0mx0\u001b[0m \u001b[1;33m+\u001b[0m \u001b[0mh_vecs\u001b[0m\u001b[1;33m[\u001b[0m\u001b[0mi\u001b[0m\u001b[1;33m]\u001b[0m\u001b[1;33m\u001b[0m\u001b[1;33m\u001b[0m\u001b[0m\n\u001b[0;32m    496\u001b[0m             \u001b[0mdx\u001b[0m \u001b[1;33m=\u001b[0m \u001b[0mx\u001b[0m\u001b[1;33m[\u001b[0m\u001b[0mi\u001b[0m\u001b[1;33m]\u001b[0m \u001b[1;33m-\u001b[0m \u001b[0mx0\u001b[0m\u001b[1;33m[\u001b[0m\u001b[0mi\u001b[0m\u001b[1;33m]\u001b[0m  \u001b[1;31m# Recompute dx as exactly representable number.\u001b[0m\u001b[1;33m\u001b[0m\u001b[1;33m\u001b[0m\u001b[0m\n\u001b[1;32m--> 497\u001b[1;33m             \u001b[0mdf\u001b[0m \u001b[1;33m=\u001b[0m \u001b[0mfun\u001b[0m\u001b[1;33m(\u001b[0m\u001b[0mx\u001b[0m\u001b[1;33m)\u001b[0m \u001b[1;33m-\u001b[0m \u001b[0mf0\u001b[0m\u001b[1;33m\u001b[0m\u001b[1;33m\u001b[0m\u001b[0m\n\u001b[0m\u001b[0;32m    498\u001b[0m         \u001b[1;32melif\u001b[0m \u001b[0mmethod\u001b[0m \u001b[1;33m==\u001b[0m \u001b[1;34m'3-point'\u001b[0m \u001b[1;32mand\u001b[0m \u001b[0muse_one_sided\u001b[0m\u001b[1;33m[\u001b[0m\u001b[0mi\u001b[0m\u001b[1;33m]\u001b[0m\u001b[1;33m:\u001b[0m\u001b[1;33m\u001b[0m\u001b[1;33m\u001b[0m\u001b[0m\n\u001b[0;32m    499\u001b[0m             \u001b[0mx1\u001b[0m \u001b[1;33m=\u001b[0m \u001b[0mx0\u001b[0m \u001b[1;33m+\u001b[0m \u001b[0mh_vecs\u001b[0m\u001b[1;33m[\u001b[0m\u001b[0mi\u001b[0m\u001b[1;33m]\u001b[0m\u001b[1;33m\u001b[0m\u001b[1;33m\u001b[0m\u001b[0m\n",
      "\u001b[1;32mC:\\ProgramData\\Anaconda3\\lib\\site-packages\\scipy\\optimize\\_numdiff.py\u001b[0m in \u001b[0;36mfun_wrapped\u001b[1;34m(x)\u001b[0m\n\u001b[0;32m    375\u001b[0m \u001b[1;33m\u001b[0m\u001b[0m\n\u001b[0;32m    376\u001b[0m     \u001b[1;32mdef\u001b[0m \u001b[0mfun_wrapped\u001b[0m\u001b[1;33m(\u001b[0m\u001b[0mx\u001b[0m\u001b[1;33m)\u001b[0m\u001b[1;33m:\u001b[0m\u001b[1;33m\u001b[0m\u001b[1;33m\u001b[0m\u001b[0m\n\u001b[1;32m--> 377\u001b[1;33m         \u001b[0mf\u001b[0m \u001b[1;33m=\u001b[0m \u001b[0mnp\u001b[0m\u001b[1;33m.\u001b[0m\u001b[0matleast_1d\u001b[0m\u001b[1;33m(\u001b[0m\u001b[0mfun\u001b[0m\u001b[1;33m(\u001b[0m\u001b[0mx\u001b[0m\u001b[1;33m,\u001b[0m \u001b[1;33m*\u001b[0m\u001b[0margs\u001b[0m\u001b[1;33m,\u001b[0m \u001b[1;33m**\u001b[0m\u001b[0mkwargs\u001b[0m\u001b[1;33m)\u001b[0m\u001b[1;33m)\u001b[0m\u001b[1;33m\u001b[0m\u001b[1;33m\u001b[0m\u001b[0m\n\u001b[0m\u001b[0;32m    378\u001b[0m         \u001b[1;32mif\u001b[0m \u001b[0mf\u001b[0m\u001b[1;33m.\u001b[0m\u001b[0mndim\u001b[0m \u001b[1;33m>\u001b[0m \u001b[1;36m1\u001b[0m\u001b[1;33m:\u001b[0m\u001b[1;33m\u001b[0m\u001b[1;33m\u001b[0m\u001b[0m\n\u001b[0;32m    379\u001b[0m             raise RuntimeError(\"`fun` return value has \"\n",
      "\u001b[1;32mC:\\ProgramData\\Anaconda3\\lib\\site-packages\\scipy\\optimize\\_differentiable_functions.py\u001b[0m in \u001b[0;36mfun_wrapped\u001b[1;34m(x)\u001b[0m\n\u001b[0;32m     68\u001b[0m         \u001b[1;32mdef\u001b[0m \u001b[0mfun_wrapped\u001b[0m\u001b[1;33m(\u001b[0m\u001b[0mx\u001b[0m\u001b[1;33m)\u001b[0m\u001b[1;33m:\u001b[0m\u001b[1;33m\u001b[0m\u001b[1;33m\u001b[0m\u001b[0m\n\u001b[0;32m     69\u001b[0m             \u001b[0mself\u001b[0m\u001b[1;33m.\u001b[0m\u001b[0mnfev\u001b[0m \u001b[1;33m+=\u001b[0m \u001b[1;36m1\u001b[0m\u001b[1;33m\u001b[0m\u001b[1;33m\u001b[0m\u001b[0m\n\u001b[1;32m---> 70\u001b[1;33m             \u001b[1;32mreturn\u001b[0m \u001b[0mfun\u001b[0m\u001b[1;33m(\u001b[0m\u001b[0mx\u001b[0m\u001b[1;33m,\u001b[0m \u001b[1;33m*\u001b[0m\u001b[0margs\u001b[0m\u001b[1;33m)\u001b[0m\u001b[1;33m\u001b[0m\u001b[1;33m\u001b[0m\u001b[0m\n\u001b[0m\u001b[0;32m     71\u001b[0m \u001b[1;33m\u001b[0m\u001b[0m\n\u001b[0;32m     72\u001b[0m         \u001b[1;32mdef\u001b[0m \u001b[0mupdate_fun\u001b[0m\u001b[1;33m(\u001b[0m\u001b[1;33m)\u001b[0m\u001b[1;33m:\u001b[0m\u001b[1;33m\u001b[0m\u001b[1;33m\u001b[0m\u001b[0m\n",
      "\u001b[1;32m<ipython-input-2-9f4a7a496fa0>\u001b[0m in \u001b[0;36mrmse\u001b[1;34m(params, obs, obs_time)\u001b[0m\n\u001b[0;32m     44\u001b[0m \u001b[1;33m\u001b[0m\u001b[0m\n\u001b[0;32m     45\u001b[0m \u001b[1;32mdef\u001b[0m \u001b[0mrmse\u001b[0m\u001b[1;33m(\u001b[0m\u001b[0mparams\u001b[0m\u001b[1;33m,\u001b[0m\u001b[0mobs\u001b[0m\u001b[1;33m,\u001b[0m\u001b[0mobs_time\u001b[0m\u001b[1;33m)\u001b[0m\u001b[1;33m:\u001b[0m\u001b[1;33m\u001b[0m\u001b[1;33m\u001b[0m\u001b[0m\n\u001b[1;32m---> 46\u001b[1;33m     \u001b[0mmodel\u001b[0m\u001b[1;33m=\u001b[0m\u001b[0mdouble_logistic_array\u001b[0m\u001b[1;33m(\u001b[0m\u001b[0mparams\u001b[0m\u001b[1;33m,\u001b[0m\u001b[0mobs_time\u001b[0m\u001b[1;33m)\u001b[0m\u001b[1;33m\u001b[0m\u001b[1;33m\u001b[0m\u001b[0m\n\u001b[0m\u001b[0;32m     47\u001b[0m     \u001b[0mrmse_series\u001b[0m \u001b[1;33m=\u001b[0m \u001b[0mnp\u001b[0m\u001b[1;33m.\u001b[0m\u001b[0msqrt\u001b[0m\u001b[1;33m(\u001b[0m\u001b[0mnp\u001b[0m\u001b[1;33m.\u001b[0m\u001b[0msum\u001b[0m\u001b[1;33m(\u001b[0m\u001b[1;33m(\u001b[0m\u001b[0mmodel\u001b[0m\u001b[1;33m-\u001b[0m\u001b[0mobs\u001b[0m\u001b[1;33m)\u001b[0m\u001b[1;33m**\u001b[0m\u001b[1;36m2\u001b[0m\u001b[1;33m)\u001b[0m\u001b[1;33m/\u001b[0m\u001b[0mfloat\u001b[0m\u001b[1;33m(\u001b[0m\u001b[0mlen\u001b[0m\u001b[1;33m(\u001b[0m\u001b[0mobs_time\u001b[0m\u001b[1;33m)\u001b[0m\u001b[1;33m)\u001b[0m\u001b[1;33m)\u001b[0m\u001b[1;33m\u001b[0m\u001b[1;33m\u001b[0m\u001b[0m\n\u001b[0;32m     48\u001b[0m     \u001b[1;32mreturn\u001b[0m \u001b[0mrmse_series\u001b[0m\u001b[1;33m\u001b[0m\u001b[1;33m\u001b[0m\u001b[0m\n",
      "\u001b[1;32m<ipython-input-2-9f4a7a496fa0>\u001b[0m in \u001b[0;36mdouble_logistic_array\u001b[1;34m(params, timeArr)\u001b[0m\n\u001b[0;32m      2\u001b[0m     \u001b[0mphenology\u001b[0m\u001b[1;33m=\u001b[0m\u001b[1;33m[\u001b[0m\u001b[1;33m]\u001b[0m\u001b[1;33m\u001b[0m\u001b[1;33m\u001b[0m\u001b[0m\n\u001b[0;32m      3\u001b[0m     \u001b[1;32mfor\u001b[0m \u001b[0mtime\u001b[0m \u001b[1;32min\u001b[0m \u001b[0mtimeArr\u001b[0m\u001b[1;33m:\u001b[0m\u001b[1;33m\u001b[0m\u001b[1;33m\u001b[0m\u001b[0m\n\u001b[1;32m----> 4\u001b[1;33m         \u001b[0mphenology\u001b[0m\u001b[1;33m.\u001b[0m\u001b[0mappend\u001b[0m\u001b[1;33m(\u001b[0m\u001b[0mdouble_logistic\u001b[0m\u001b[1;33m(\u001b[0m\u001b[0mparams\u001b[0m\u001b[1;33m,\u001b[0m\u001b[0mtime\u001b[0m\u001b[1;33m)\u001b[0m\u001b[1;33m)\u001b[0m\u001b[1;33m\u001b[0m\u001b[1;33m\u001b[0m\u001b[0m\n\u001b[0m\u001b[0;32m      5\u001b[0m     \u001b[1;32mreturn\u001b[0m \u001b[0mnp\u001b[0m\u001b[1;33m.\u001b[0m\u001b[0marray\u001b[0m\u001b[1;33m(\u001b[0m\u001b[0mphenology\u001b[0m\u001b[1;33m)\u001b[0m\u001b[1;33m\u001b[0m\u001b[1;33m\u001b[0m\u001b[0m\n\u001b[0;32m      6\u001b[0m \u001b[1;33m\u001b[0m\u001b[0m\n",
      "\u001b[1;32m<ipython-input-2-9f4a7a496fa0>\u001b[0m in \u001b[0;36mdouble_logistic\u001b[1;34m(params, time)\u001b[0m\n\u001b[0;32m     26\u001b[0m     \u001b[0mlgstc1\u001b[0m\u001b[1;33m=\u001b[0m\u001b[1;33m(\u001b[0m\u001b[0mc\u001b[0m\u001b[1;33m-\u001b[0m\u001b[0md\u001b[0m\u001b[1;33m)\u001b[0m\u001b[1;33m/\u001b[0m\u001b[1;33m(\u001b[0m\u001b[1;36m1.\u001b[0m\u001b[1;33m+\u001b[0m\u001b[0mmath\u001b[0m\u001b[1;33m.\u001b[0m\u001b[0mexp\u001b[0m\u001b[1;33m(\u001b[0m\u001b[0mk1\u001b[0m\u001b[1;33m*\u001b[0m\u001b[1;33m(\u001b[0m\u001b[0mtime\u001b[0m\u001b[1;33m-\u001b[0m\u001b[0mt01\u001b[0m\u001b[1;33m)\u001b[0m\u001b[1;33m)\u001b[0m\u001b[1;33m)\u001b[0m\u001b[1;33m+\u001b[0m\u001b[0md\u001b[0m\u001b[1;33m\u001b[0m\u001b[1;33m\u001b[0m\u001b[0m\n\u001b[0;32m     27\u001b[0m     \u001b[0mlgstc2\u001b[0m\u001b[1;33m=\u001b[0m\u001b[1;33m(\u001b[0m\u001b[0md\u001b[0m\u001b[1;33m-\u001b[0m\u001b[0mc\u001b[0m\u001b[1;33m)\u001b[0m\u001b[1;33m/\u001b[0m\u001b[1;33m(\u001b[0m\u001b[1;36m1.\u001b[0m\u001b[1;33m+\u001b[0m\u001b[0mmath\u001b[0m\u001b[1;33m.\u001b[0m\u001b[0mexp\u001b[0m\u001b[1;33m(\u001b[0m\u001b[0mk2\u001b[0m\u001b[1;33m*\u001b[0m\u001b[1;33m(\u001b[0m\u001b[0mtime\u001b[0m\u001b[1;33m-\u001b[0m\u001b[0mt02\u001b[0m\u001b[1;33m)\u001b[0m\u001b[1;33m)\u001b[0m\u001b[1;33m)\u001b[0m\u001b[1;33m+\u001b[0m\u001b[0mc\u001b[0m\u001b[1;33m\u001b[0m\u001b[1;33m\u001b[0m\u001b[0m\n\u001b[1;32m---> 28\u001b[1;33m     \u001b[1;32mreturn\u001b[0m \u001b[0mnp\u001b[0m\u001b[1;33m.\u001b[0m\u001b[0mmin\u001b[0m\u001b[1;33m(\u001b[0m\u001b[1;33m[\u001b[0m\u001b[0mlgstc1\u001b[0m\u001b[1;33m,\u001b[0m\u001b[0mlgstc2\u001b[0m\u001b[1;33m]\u001b[0m\u001b[1;33m)\u001b[0m\u001b[1;33m\u001b[0m\u001b[1;33m\u001b[0m\u001b[0m\n\u001b[0m\u001b[0;32m     29\u001b[0m \u001b[1;33m\u001b[0m\u001b[0m\n\u001b[0;32m     30\u001b[0m \u001b[1;32mdef\u001b[0m \u001b[0mgenSynthObs\u001b[0m\u001b[1;33m(\u001b[0m\u001b[0mparams\u001b[0m\u001b[1;33m,\u001b[0m\u001b[0mfreq\u001b[0m\u001b[1;33m=\u001b[0m\u001b[1;36m16\u001b[0m\u001b[1;33m,\u001b[0m\u001b[0mstddev\u001b[0m\u001b[1;33m=\u001b[0m\u001b[1;36m0.0\u001b[0m\u001b[1;33m,\u001b[0m\u001b[0mcloud\u001b[0m\u001b[1;33m=\u001b[0m\u001b[1;36m0.0\u001b[0m\u001b[1;33m)\u001b[0m\u001b[1;33m:\u001b[0m\u001b[1;33m\u001b[0m\u001b[1;33m\u001b[0m\u001b[0m\n",
      "\u001b[1;32m<__array_function__ internals>\u001b[0m in \u001b[0;36mamin\u001b[1;34m(*args, **kwargs)\u001b[0m\n",
      "\u001b[1;32mC:\\ProgramData\\Anaconda3\\lib\\site-packages\\numpy\\core\\fromnumeric.py\u001b[0m in \u001b[0;36mamin\u001b[1;34m(a, axis, out, keepdims, initial, where)\u001b[0m\n\u001b[0;32m   2828\u001b[0m     \u001b[1;36m6\u001b[0m\u001b[1;33m\u001b[0m\u001b[1;33m\u001b[0m\u001b[0m\n\u001b[0;32m   2829\u001b[0m     \"\"\"\n\u001b[1;32m-> 2830\u001b[1;33m     return _wrapreduction(a, np.minimum, 'min', axis, None, out,\n\u001b[0m\u001b[0;32m   2831\u001b[0m                           keepdims=keepdims, initial=initial, where=where)\n\u001b[0;32m   2832\u001b[0m \u001b[1;33m\u001b[0m\u001b[0m\n",
      "\u001b[1;32mC:\\ProgramData\\Anaconda3\\lib\\site-packages\\numpy\\core\\fromnumeric.py\u001b[0m in \u001b[0;36m_wrapreduction\u001b[1;34m(obj, ufunc, method, axis, dtype, out, **kwargs)\u001b[0m\n\u001b[0;32m     85\u001b[0m                 \u001b[1;32mreturn\u001b[0m \u001b[0mreduction\u001b[0m\u001b[1;33m(\u001b[0m\u001b[0maxis\u001b[0m\u001b[1;33m=\u001b[0m\u001b[0maxis\u001b[0m\u001b[1;33m,\u001b[0m \u001b[0mout\u001b[0m\u001b[1;33m=\u001b[0m\u001b[0mout\u001b[0m\u001b[1;33m,\u001b[0m \u001b[1;33m**\u001b[0m\u001b[0mpasskwargs\u001b[0m\u001b[1;33m)\u001b[0m\u001b[1;33m\u001b[0m\u001b[1;33m\u001b[0m\u001b[0m\n\u001b[0;32m     86\u001b[0m \u001b[1;33m\u001b[0m\u001b[0m\n\u001b[1;32m---> 87\u001b[1;33m     \u001b[1;32mreturn\u001b[0m \u001b[0mufunc\u001b[0m\u001b[1;33m.\u001b[0m\u001b[0mreduce\u001b[0m\u001b[1;33m(\u001b[0m\u001b[0mobj\u001b[0m\u001b[1;33m,\u001b[0m \u001b[0maxis\u001b[0m\u001b[1;33m,\u001b[0m \u001b[0mdtype\u001b[0m\u001b[1;33m,\u001b[0m \u001b[0mout\u001b[0m\u001b[1;33m,\u001b[0m \u001b[1;33m**\u001b[0m\u001b[0mpasskwargs\u001b[0m\u001b[1;33m)\u001b[0m\u001b[1;33m\u001b[0m\u001b[1;33m\u001b[0m\u001b[0m\n\u001b[0m\u001b[0;32m     88\u001b[0m \u001b[1;33m\u001b[0m\u001b[0m\n\u001b[0;32m     89\u001b[0m \u001b[1;33m\u001b[0m\u001b[0m\n",
      "\u001b[1;31mKeyboardInterrupt\u001b[0m: "
     ]
    }
   ],
   "source": [
    "# 读取滤波后的影像\n",
    "filtered_img_path = r'data/2019_filtered_int.tif'\n",
    "filtered_img = gdal_array.LoadFile(filtered_img_path)\n",
    "[doy, img_ht, img_wd] = filtered_img.shape              # 影像的维度（日期数、宽、高）\n",
    "param_num = 6       # double logistic 参数个数\n",
    "\n",
    "#fitted_img = np.zeros(filtered_img.shape)\n",
    "fitted_params = np.zeros((param_num, img_ht, img_wd))\n",
    "param_bounds = Bounds([0,0,50,210,0,0],[0.1,0.1,160,300,10000,10000])\n",
    "\n",
    "# 分配影像日期(DOY)\n",
    "time_arr=np.arange(1, 365, 16)\n",
    "\n",
    "# 开始计时\n",
    "start = time.time()\n",
    "for x in range(1,img_ht):\n",
    "    # 打印进度信息，因为影像较大。\n",
    "    if x%100 == 0:\n",
    "        end = time.time()\n",
    "        print(x, ' of ', img_ht, '\\t', x/img_ht *100, '%\\t Time elapsed: ', str(end - start) )\n",
    "        \n",
    "    for y in range(1,img_wd):\n",
    "        series = filtered_img[:,x,y] # 获取原始影像时间序列\n",
    "\n",
    "        # 如果序列全为 0，则不需要做拟合（研究区外）\n",
    "        if np.count_nonzero(series) > 20:\n",
    "\n",
    "            # Double logistic 拟合参数的初始猜测\n",
    "            params=np.zeros(6)\n",
    "            params[0]=0.2\n",
    "            params[1]=0.4\n",
    "            params[2]=120\n",
    "            params[3]=250\n",
    "            params[4]=np.min(series)\n",
    "            params[5]=np.max(series)\n",
    "\n",
    "            # 初始猜测参数的时间序列曲线\n",
    "            phenology=double_logistic_array(params,time_arr)\n",
    "            #synth_obs, obs_times=genSynthObs(params,freq=16,stddev=0.05,cloud=0)\n",
    "\n",
    "            # 滤波后的观测时间序列曲线\n",
    "            synth_obs = series #/ 10000\n",
    "            obs_times = time_arr\n",
    "\n",
    "            # 经过优化后的 double logiscit 参数值和 RMSE 值\n",
    "            s=solver(params,synth_obs,obs_times,rmse,param_bounds)\n",
    "            rmse_series = s.fun\n",
    "\n",
    "            # double logistic 拟合后的时间序列\n",
    "            #fitted_img[:,x,y]=double_logistic_array(s.x,time_arr)\n",
    "            fitted_params[:,x,y] = s.x\n"
   ]
  },
  {
   "cell_type": "code",
   "execution_count": 11,
   "metadata": {},
   "outputs": [],
   "source": [
    "# 把滤波后的时间序列存储到新的影像中\n",
    "out_img_path = 'data/2019_params.tif'\n",
    "src = rasterio.open(\"data/\" + str(2019) + '.tif')\n",
    "with rasterio.open(\n",
    "    out_img_path,\n",
    "    'w',\n",
    "    driver='GTiff',\n",
    "    height=fitted_params.shape[1],\n",
    "    width=fitted_params.shape[2],\n",
    "    count=fitted_params.shape[0],\n",
    "    dtype=rasterio.float64, #存储数据精度为 float64,参数精度要求较高\n",
    "    crs = rasterio.crs.CRS.from_epsg(4326),\n",
    "    transform=src.transform,\n",
    ") as dst:\n",
    "    dst.write(fitted_params) "
   ]
  },
  {
   "cell_type": "code",
   "execution_count": null,
   "metadata": {},
   "outputs": [],
   "source": []
  }
 ],
 "metadata": {
  "kernelspec": {
   "display_name": "Python 3",
   "language": "python",
   "name": "python3"
  },
  "language_info": {
   "codemirror_mode": {
    "name": "ipython",
    "version": 3
   },
   "file_extension": ".py",
   "mimetype": "text/x-python",
   "name": "python",
   "nbconvert_exporter": "python",
   "pygments_lexer": "ipython3",
   "version": "3.7.4"
  }
 },
 "nbformat": 4,
 "nbformat_minor": 4
}
